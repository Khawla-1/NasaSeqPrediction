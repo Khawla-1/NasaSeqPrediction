{
 "cells": [
  {
   "cell_type": "markdown",
   "id": "9487b973",
   "metadata": {},
   "source": [
    "# First neural network with keras and NazaData\n"
   ]
  },
  {
   "cell_type": "code",
   "execution_count": 66,
   "id": "2e8afa51",
   "metadata": {},
   "outputs": [],
   "source": [
    "    import pandas as pd\n",
    "    from sklearn.linear_model import LinearRegression\n",
    "    import matplotlib.pyplot as plt "
   ]
  },
  {
   "cell_type": "code",
   "execution_count": 67,
   "id": "1ddaa8ea",
   "metadata": {},
   "outputs": [
    {
     "data": {
      "text/html": [
       "<div>\n",
       "<style scoped>\n",
       "    .dataframe tbody tr th:only-of-type {\n",
       "        vertical-align: middle;\n",
       "    }\n",
       "\n",
       "    .dataframe tbody tr th {\n",
       "        vertical-align: top;\n",
       "    }\n",
       "\n",
       "    .dataframe thead th {\n",
       "        text-align: right;\n",
       "    }\n",
       "</style>\n",
       "<table border=\"1\" class=\"dataframe\">\n",
       "  <thead>\n",
       "    <tr style=\"text-align: right;\">\n",
       "      <th></th>\n",
       "      <th>YEAR</th>\n",
       "      <th>MO</th>\n",
       "      <th>DY</th>\n",
       "      <th>CLRSKY_SFC_SW_DWN</th>\n",
       "      <th>ALLSKY_KT</th>\n",
       "      <th>ALLSKY_SFC_PAR_TOT</th>\n",
       "      <th>T2M</th>\n",
       "      <th>ALLSKY_SFC_UVA</th>\n",
       "      <th>RH2M</th>\n",
       "      <th>PS</th>\n",
       "    </tr>\n",
       "  </thead>\n",
       "  <tbody>\n",
       "    <tr>\n",
       "      <th>0</th>\n",
       "      <td>2000</td>\n",
       "      <td>1</td>\n",
       "      <td>1</td>\n",
       "      <td>3.13</td>\n",
       "      <td>0.48</td>\n",
       "      <td>43.5</td>\n",
       "      <td>5.73</td>\n",
       "      <td>-999.0</td>\n",
       "      <td>87.62</td>\n",
       "      <td>99.65</td>\n",
       "    </tr>\n",
       "    <tr>\n",
       "      <th>1</th>\n",
       "      <td>2000</td>\n",
       "      <td>1</td>\n",
       "      <td>2</td>\n",
       "      <td>2.93</td>\n",
       "      <td>0.59</td>\n",
       "      <td>52.1</td>\n",
       "      <td>6.07</td>\n",
       "      <td>-999.0</td>\n",
       "      <td>79.81</td>\n",
       "      <td>99.87</td>\n",
       "    </tr>\n",
       "    <tr>\n",
       "      <th>2</th>\n",
       "      <td>2000</td>\n",
       "      <td>1</td>\n",
       "      <td>3</td>\n",
       "      <td>2.81</td>\n",
       "      <td>0.45</td>\n",
       "      <td>40.0</td>\n",
       "      <td>6.47</td>\n",
       "      <td>-999.0</td>\n",
       "      <td>84.56</td>\n",
       "      <td>100.01</td>\n",
       "    </tr>\n",
       "    <tr>\n",
       "      <th>3</th>\n",
       "      <td>2000</td>\n",
       "      <td>1</td>\n",
       "      <td>4</td>\n",
       "      <td>3.19</td>\n",
       "      <td>0.57</td>\n",
       "      <td>50.4</td>\n",
       "      <td>6.76</td>\n",
       "      <td>-999.0</td>\n",
       "      <td>81.69</td>\n",
       "      <td>100.09</td>\n",
       "    </tr>\n",
       "    <tr>\n",
       "      <th>4</th>\n",
       "      <td>2000</td>\n",
       "      <td>1</td>\n",
       "      <td>5</td>\n",
       "      <td>3.01</td>\n",
       "      <td>0.62</td>\n",
       "      <td>54.0</td>\n",
       "      <td>7.21</td>\n",
       "      <td>-999.0</td>\n",
       "      <td>77.69</td>\n",
       "      <td>99.80</td>\n",
       "    </tr>\n",
       "    <tr>\n",
       "      <th>5</th>\n",
       "      <td>2000</td>\n",
       "      <td>1</td>\n",
       "      <td>6</td>\n",
       "      <td>2.96</td>\n",
       "      <td>0.54</td>\n",
       "      <td>48.6</td>\n",
       "      <td>7.68</td>\n",
       "      <td>-999.0</td>\n",
       "      <td>78.19</td>\n",
       "      <td>99.67</td>\n",
       "    </tr>\n",
       "    <tr>\n",
       "      <th>6</th>\n",
       "      <td>2000</td>\n",
       "      <td>1</td>\n",
       "      <td>7</td>\n",
       "      <td>2.83</td>\n",
       "      <td>0.48</td>\n",
       "      <td>44.0</td>\n",
       "      <td>8.11</td>\n",
       "      <td>-999.0</td>\n",
       "      <td>74.62</td>\n",
       "      <td>99.73</td>\n",
       "    </tr>\n",
       "    <tr>\n",
       "      <th>7</th>\n",
       "      <td>2000</td>\n",
       "      <td>1</td>\n",
       "      <td>8</td>\n",
       "      <td>2.85</td>\n",
       "      <td>0.58</td>\n",
       "      <td>51.7</td>\n",
       "      <td>8.28</td>\n",
       "      <td>-999.0</td>\n",
       "      <td>78.12</td>\n",
       "      <td>99.66</td>\n",
       "    </tr>\n",
       "    <tr>\n",
       "      <th>8</th>\n",
       "      <td>2000</td>\n",
       "      <td>1</td>\n",
       "      <td>9</td>\n",
       "      <td>3.09</td>\n",
       "      <td>0.61</td>\n",
       "      <td>53.9</td>\n",
       "      <td>8.00</td>\n",
       "      <td>-999.0</td>\n",
       "      <td>69.12</td>\n",
       "      <td>99.50</td>\n",
       "    </tr>\n",
       "    <tr>\n",
       "      <th>9</th>\n",
       "      <td>2000</td>\n",
       "      <td>1</td>\n",
       "      <td>10</td>\n",
       "      <td>2.94</td>\n",
       "      <td>0.60</td>\n",
       "      <td>54.6</td>\n",
       "      <td>7.55</td>\n",
       "      <td>-999.0</td>\n",
       "      <td>79.25</td>\n",
       "      <td>99.67</td>\n",
       "    </tr>\n",
       "  </tbody>\n",
       "</table>\n",
       "</div>"
      ],
      "text/plain": [
       "   YEAR  MO  DY  CLRSKY_SFC_SW_DWN  ALLSKY_KT  ALLSKY_SFC_PAR_TOT   T2M  \\\n",
       "0  2000   1   1               3.13       0.48                43.5  5.73   \n",
       "1  2000   1   2               2.93       0.59                52.1  6.07   \n",
       "2  2000   1   3               2.81       0.45                40.0  6.47   \n",
       "3  2000   1   4               3.19       0.57                50.4  6.76   \n",
       "4  2000   1   5               3.01       0.62                54.0  7.21   \n",
       "5  2000   1   6               2.96       0.54                48.6  7.68   \n",
       "6  2000   1   7               2.83       0.48                44.0  8.11   \n",
       "7  2000   1   8               2.85       0.58                51.7  8.28   \n",
       "8  2000   1   9               3.09       0.61                53.9  8.00   \n",
       "9  2000   1  10               2.94       0.60                54.6  7.55   \n",
       "\n",
       "   ALLSKY_SFC_UVA   RH2M      PS  \n",
       "0          -999.0  87.62   99.65  \n",
       "1          -999.0  79.81   99.87  \n",
       "2          -999.0  84.56  100.01  \n",
       "3          -999.0  81.69  100.09  \n",
       "4          -999.0  77.69   99.80  \n",
       "5          -999.0  78.19   99.67  \n",
       "6          -999.0  74.62   99.73  \n",
       "7          -999.0  78.12   99.66  \n",
       "8          -999.0  69.12   99.50  \n",
       "9          -999.0  79.25   99.67  "
      ]
     },
     "execution_count": 67,
     "metadata": {},
     "output_type": "execute_result"
    }
   ],
   "source": [
    "data = pd.read_csv('nazadata.csv')\n",
    "data.head(10)"
   ]
  },
  {
   "cell_type": "code",
   "execution_count": 68,
   "id": "2e63a6fe",
   "metadata": {},
   "outputs": [
    {
     "data": {
      "text/plain": [
       "<Axes: >"
      ]
     },
     "execution_count": 68,
     "metadata": {},
     "output_type": "execute_result"
    },
    {
     "data": {
      "image/png": "[encoded data removed]",
      "text/plain": [
       "<Figure size 640x480 with 1 Axes>"
      ]
     },
     "metadata": {},
     "output_type": "display_data"
    }
   ],
   "source": [
    "data.columns\n",
    "data.plot()"
   ]
  },
  {
   "cell_type": "code",
   "execution_count": 4,
   "id": "d87964ee",
   "metadata": {},
   "outputs": [],
   "source": [
    "features = data.drop('T2M', axis=1)\n",
    "labels = data['T2M']"
   ]
  },
  {
   "cell_type": "markdown",
   "id": "c263b23b",
   "metadata": {},
   "source": [
    "# Training model"
   ]
  },
  {
   "cell_type": "code",
   "execution_count": 49,
   "id": "e98040df",
   "metadata": {},
   "outputs": [],
   "source": [
    "import numpy as np\n",
    "import pandas as pd\n",
    "import tensorflow as tf\n",
    "from keras.models import Sequential\n",
    "from keras.layers import Dense\n",
    "from sklearn.model_selection import train_test_split"
   ]
  },
  {
   "cell_type": "code",
   "execution_count": 50,
   "id": "aeaa499f",
   "metadata": {},
   "outputs": [],
   "source": [
    "X_train, X_test, y_train, y_test=train_test_split(features, labels, test_size=0.2, random_state=10)\n"
   ]
  },
  {
   "cell_type": "code",
   "execution_count": 51,
   "id": "fae7265f",
   "metadata": {},
   "outputs": [],
   "source": [
    "model = Sequential()\n",
    "model.add(Dense(64, input_dim = X_train.shape[1],activation='relu'))\n",
    "model.add(Dense(32, input_dim = X_train.shape[1, activation]))\n",
    "model.add(Dense(10))\n",
    "model.compile(loss='mean_squared_error', optimizer='adam')"
   ]
  },
  {
   "cell_type": "code",
   "execution_count": 52,
   "id": "786f2824",
   "metadata": {},
   "outputs": [
    {
     "name": "stdout",
     "output_type": "stream",
     "text": [
      "Epoch 1/100\n",
      "192/192 [==============================] - 2s 2ms/step - loss: 9044.0117 - accuracy: 1.6297e-04\n",
      "Epoch 2/100\n",
      "192/192 [==============================] - 0s 2ms/step - loss: 125.8712 - accuracy: 1.6297e-04\n",
      "Epoch 3/100\n",
      "192/192 [==============================] - 0s 2ms/step - loss: 96.0129 - accuracy: 1.6297e-04\n",
      "Epoch 4/100\n",
      "192/192 [==============================] - 0s 2ms/step - loss: 78.8969 - accuracy: 1.6297e-04\n",
      "Epoch 5/100\n",
      "192/192 [==============================] - 0s 2ms/step - loss: 64.7666 - accuracy: 1.6297e-04\n",
      "Epoch 6/100\n",
      "192/192 [==============================] - 0s 2ms/step - loss: 53.0162 - accuracy: 1.6297e-04\n",
      "Epoch 7/100\n",
      "192/192 [==============================] - 0s 2ms/step - loss: 44.2642 - accuracy: 1.6297e-04\n",
      "Epoch 8/100\n",
      "192/192 [==============================] - 0s 2ms/step - loss: 37.1767 - accuracy: 1.6297e-04\n",
      "Epoch 9/100\n",
      "192/192 [==============================] - 0s 2ms/step - loss: 32.0799 - accuracy: 1.6297e-04\n",
      "Epoch 10/100\n",
      "192/192 [==============================] - 0s 2ms/step - loss: 28.5183 - accuracy: 1.6297e-04\n",
      "Epoch 11/100\n",
      "192/192 [==============================] - 0s 2ms/step - loss: 25.9348 - accuracy: 0.0000e+00\n",
      "Epoch 12/100\n",
      "192/192 [==============================] - 0s 2ms/step - loss: 23.9685 - accuracy: 0.0000e+00\n",
      "Epoch 13/100\n",
      "192/192 [==============================] - 0s 2ms/step - loss: 23.1905 - accuracy: 0.0000e+00\n",
      "Epoch 14/100\n",
      "192/192 [==============================] - 0s 3ms/step - loss: 21.2617 - accuracy: 0.0000e+00\n",
      "Epoch 15/100\n",
      "192/192 [==============================] - 1s 3ms/step - loss: 20.7050 - accuracy: 0.0000e+00\n",
      "Epoch 16/100\n",
      "192/192 [==============================] - 0s 3ms/step - loss: 19.8666 - accuracy: 1.6297e-04\n",
      "Epoch 17/100\n",
      "192/192 [==============================] - 0s 2ms/step - loss: 20.0470 - accuracy: 0.0000e+00\n",
      "Epoch 18/100\n",
      "192/192 [==============================] - 0s 2ms/step - loss: 19.0361 - accuracy: 0.0000e+00\n",
      "Epoch 19/100\n",
      "192/192 [==============================] - 0s 2ms/step - loss: 18.2386 - accuracy: 0.0000e+00\n",
      "Epoch 20/100\n",
      "192/192 [==============================] - 0s 2ms/step - loss: 18.1923 - accuracy: 0.0000e+00\n",
      "Epoch 21/100\n",
      "192/192 [==============================] - 0s 2ms/step - loss: 17.9760 - accuracy: 0.0000e+00\n",
      "Epoch 22/100\n",
      "192/192 [==============================] - 0s 2ms/step - loss: 17.5876 - accuracy: 0.0000e+00\n",
      "Epoch 23/100\n",
      "192/192 [==============================] - 0s 2ms/step - loss: 16.6965 - accuracy: 0.0000e+00\n",
      "Epoch 24/100\n",
      "192/192 [==============================] - 0s 2ms/step - loss: 16.4338 - accuracy: 1.6297e-04\n",
      "Epoch 25/100\n",
      "192/192 [==============================] - 0s 2ms/step - loss: 16.5027 - accuracy: 0.0000e+00\n",
      "Epoch 26/100\n",
      "192/192 [==============================] - 0s 2ms/step - loss: 16.1268 - accuracy: 1.6297e-04\n",
      "Epoch 27/100\n",
      "192/192 [==============================] - 0s 2ms/step - loss: 15.8168 - accuracy: 0.0000e+00\n",
      "Epoch 28/100\n",
      "192/192 [==============================] - 0s 2ms/step - loss: 15.9477 - accuracy: 0.0000e+00\n",
      "Epoch 29/100\n",
      "192/192 [==============================] - 0s 2ms/step - loss: 15.7182 - accuracy: 0.0000e+00\n",
      "Epoch 30/100\n",
      "192/192 [==============================] - 0s 2ms/step - loss: 15.8173 - accuracy: 1.6297e-04\n",
      "Epoch 31/100\n",
      "192/192 [==============================] - 0s 2ms/step - loss: 15.0881 - accuracy: 0.0000e+00\n",
      "Epoch 32/100\n",
      "192/192 [==============================] - 0s 2ms/step - loss: 15.2852 - accuracy: 0.0000e+00\n",
      "Epoch 33/100\n",
      "192/192 [==============================] - 0s 2ms/step - loss: 15.6390 - accuracy: 0.0000e+00\n",
      "Epoch 34/100\n",
      "192/192 [==============================] - 0s 2ms/step - loss: 16.0167 - accuracy: 0.0000e+00\n",
      "Epoch 35/100\n",
      "192/192 [==============================] - 0s 2ms/step - loss: 15.5384 - accuracy: 0.0000e+00\n",
      "Epoch 36/100\n",
      "192/192 [==============================] - 0s 2ms/step - loss: 16.5108 - accuracy: 0.0000e+00\n",
      "Epoch 37/100\n",
      "192/192 [==============================] - 0s 2ms/step - loss: 15.5091 - accuracy: 0.0000e+00\n",
      "Epoch 38/100\n",
      "192/192 [==============================] - 0s 2ms/step - loss: 16.5946 - accuracy: 0.0000e+00\n",
      "Epoch 39/100\n",
      "192/192 [==============================] - 0s 2ms/step - loss: 15.5375 - accuracy: 1.6297e-04\n",
      "Epoch 40/100\n",
      "192/192 [==============================] - 0s 2ms/step - loss: 14.5863 - accuracy: 0.0000e+00\n",
      "Epoch 41/100\n",
      "192/192 [==============================] - 0s 2ms/step - loss: 16.2201 - accuracy: 1.6297e-04\n",
      "Epoch 42/100\n",
      "192/192 [==============================] - 0s 2ms/step - loss: 15.0654 - accuracy: 3.2595e-04\n",
      "Epoch 43/100\n",
      "192/192 [==============================] - 0s 2ms/step - loss: 14.5980 - accuracy: 0.0000e+00\n",
      "Epoch 44/100\n",
      "192/192 [==============================] - 0s 2ms/step - loss: 15.2552 - accuracy: 0.0000e+00\n",
      "Epoch 45/100\n",
      "192/192 [==============================] - 0s 2ms/step - loss: 15.1861 - accuracy: 0.0000e+00\n",
      "Epoch 46/100\n",
      "192/192 [==============================] - 0s 2ms/step - loss: 15.1703 - accuracy: 0.0000e+00\n",
      "Epoch 47/100\n",
      "192/192 [==============================] - 0s 2ms/step - loss: 15.5517 - accuracy: 1.6297e-04\n",
      "Epoch 48/100\n",
      "192/192 [==============================] - 0s 2ms/step - loss: 15.1429 - accuracy: 0.0000e+00\n",
      "Epoch 49/100\n",
      "192/192 [==============================] - 0s 2ms/step - loss: 15.3098 - accuracy: 0.0000e+00\n",
      "Epoch 50/100\n",
      "192/192 [==============================] - 0s 2ms/step - loss: 14.3445 - accuracy: 0.0000e+00\n",
      "Epoch 51/100\n",
      "192/192 [==============================] - 0s 2ms/step - loss: 15.6590 - accuracy: 1.6297e-04\n",
      "Epoch 52/100\n",
      "192/192 [==============================] - 0s 3ms/step - loss: 14.8662 - accuracy: 0.0000e+00\n",
      "Epoch 53/100\n",
      "192/192 [==============================] - 1s 3ms/step - loss: 14.3922 - accuracy: 0.0000e+00\n",
      "Epoch 54/100\n",
      "192/192 [==============================] - 1s 3ms/step - loss: 14.7131 - accuracy: 1.6297e-04\n",
      "Epoch 55/100\n",
      "192/192 [==============================] - 0s 2ms/step - loss: 14.9883 - accuracy: 0.0000e+00\n",
      "Epoch 56/100\n",
      "192/192 [==============================] - 0s 2ms/step - loss: 14.9186 - accuracy: 0.0000e+00\n",
      "Epoch 57/100\n",
      "192/192 [==============================] - 0s 2ms/step - loss: 13.9232 - accuracy: 0.0000e+00\n",
      "Epoch 58/100\n",
      "192/192 [==============================] - 0s 2ms/step - loss: 15.2663 - accuracy: 1.6297e-04\n",
      "Epoch 59/100\n",
      "192/192 [==============================] - 0s 2ms/step - loss: 15.6308 - accuracy: 0.0000e+00\n",
      "Epoch 60/100\n",
      "192/192 [==============================] - 0s 2ms/step - loss: 15.3995 - accuracy: 1.6297e-04\n",
      "Epoch 61/100\n",
      "192/192 [==============================] - 0s 2ms/step - loss: 14.1797 - accuracy: 0.0000e+00\n",
      "Epoch 62/100\n",
      "192/192 [==============================] - 0s 2ms/step - loss: 15.6008 - accuracy: 0.0000e+00\n",
      "Epoch 63/100\n",
      "192/192 [==============================] - 0s 2ms/step - loss: 13.8130 - accuracy: 0.0000e+00\n",
      "Epoch 64/100\n",
      "192/192 [==============================] - 0s 2ms/step - loss: 14.1866 - accuracy: 0.0000e+00\n",
      "Epoch 65/100\n",
      "192/192 [==============================] - 0s 2ms/step - loss: 14.2500 - accuracy: 0.0000e+00\n",
      "Epoch 66/100\n",
      "192/192 [==============================] - 0s 2ms/step - loss: 13.8611 - accuracy: 0.0000e+00\n",
      "Epoch 67/100\n",
      "192/192 [==============================] - 0s 2ms/step - loss: 14.9278 - accuracy: 1.6297e-04\n",
      "Epoch 68/100\n",
      "192/192 [==============================] - 0s 2ms/step - loss: 13.8811 - accuracy: 0.0000e+00\n",
      "Epoch 69/100\n",
      "192/192 [==============================] - 0s 2ms/step - loss: 13.5010 - accuracy: 0.0000e+00\n",
      "Epoch 70/100\n",
      "192/192 [==============================] - 0s 2ms/step - loss: 14.6505 - accuracy: 0.0000e+00\n",
      "Epoch 71/100\n",
      "192/192 [==============================] - 0s 2ms/step - loss: 13.6562 - accuracy: 0.0000e+00\n",
      "Epoch 72/100\n",
      "192/192 [==============================] - 0s 2ms/step - loss: 14.4236 - accuracy: 0.0000e+00\n",
      "Epoch 73/100\n",
      "192/192 [==============================] - 0s 2ms/step - loss: 13.3565 - accuracy: 0.0000e+00\n",
      "Epoch 74/100\n",
      "192/192 [==============================] - 0s 2ms/step - loss: 13.6447 - accuracy: 1.6297e-04\n",
      "Epoch 75/100\n",
      "192/192 [==============================] - 0s 2ms/step - loss: 13.1070 - accuracy: 0.0000e+00\n",
      "Epoch 76/100\n",
      "192/192 [==============================] - 0s 2ms/step - loss: 13.0350 - accuracy: 1.6297e-04\n",
      "Epoch 77/100\n"
     ]
    },
    {
     "name": "stdout",
     "output_type": "stream",
     "text": [
      "192/192 [==============================] - 0s 2ms/step - loss: 12.6532 - accuracy: 1.6297e-04\n",
      "Epoch 78/100\n",
      "192/192 [==============================] - 0s 2ms/step - loss: 12.1027 - accuracy: 0.0000e+00\n",
      "Epoch 79/100\n",
      "192/192 [==============================] - 0s 2ms/step - loss: 12.6411 - accuracy: 0.0000e+00\n",
      "Epoch 80/100\n",
      "192/192 [==============================] - 0s 2ms/step - loss: 11.9252 - accuracy: 0.0000e+00\n",
      "Epoch 81/100\n",
      "192/192 [==============================] - 0s 2ms/step - loss: 12.1283 - accuracy: 0.0000e+00\n",
      "Epoch 82/100\n",
      "192/192 [==============================] - 0s 2ms/step - loss: 11.5281 - accuracy: 0.0000e+00\n",
      "Epoch 83/100\n",
      "192/192 [==============================] - 0s 2ms/step - loss: 10.9101 - accuracy: 0.0000e+00\n",
      "Epoch 84/100\n",
      "192/192 [==============================] - 0s 2ms/step - loss: 11.3735 - accuracy: 0.0000e+00\n",
      "Epoch 85/100\n",
      "192/192 [==============================] - 0s 2ms/step - loss: 10.8913 - accuracy: 0.0000e+00\n",
      "Epoch 86/100\n",
      "192/192 [==============================] - 0s 2ms/step - loss: 10.3171 - accuracy: 0.0000e+00\n",
      "Epoch 87/100\n",
      "192/192 [==============================] - 0s 2ms/step - loss: 10.3604 - accuracy: 0.0000e+00\n",
      "Epoch 88/100\n",
      "192/192 [==============================] - 0s 2ms/step - loss: 10.1867 - accuracy: 0.0000e+00\n",
      "Epoch 89/100\n",
      "192/192 [==============================] - 0s 2ms/step - loss: 9.9874 - accuracy: 0.0000e+00\n",
      "Epoch 90/100\n",
      "192/192 [==============================] - 0s 3ms/step - loss: 10.1588 - accuracy: 0.0000e+00\n",
      "Epoch 91/100\n",
      "192/192 [==============================] - 1s 3ms/step - loss: 9.7266 - accuracy: 0.0000e+00\n",
      "Epoch 92/100\n",
      "192/192 [==============================] - 1s 3ms/step - loss: 9.7516 - accuracy: 0.0000e+00\n",
      "Epoch 93/100\n",
      "192/192 [==============================] - 0s 3ms/step - loss: 10.0056 - accuracy: 0.0000e+00\n",
      "Epoch 94/100\n",
      "192/192 [==============================] - 0s 2ms/step - loss: 9.3902 - accuracy: 0.0000e+00\n",
      "Epoch 95/100\n",
      "192/192 [==============================] - 0s 2ms/step - loss: 9.3581 - accuracy: 0.0000e+00\n",
      "Epoch 96/100\n",
      "192/192 [==============================] - 0s 2ms/step - loss: 9.4173 - accuracy: 0.0000e+00\n",
      "Epoch 97/100\n",
      "192/192 [==============================] - 0s 2ms/step - loss: 9.3004 - accuracy: 0.0000e+00\n",
      "Epoch 98/100\n",
      "192/192 [==============================] - 0s 2ms/step - loss: 9.0915 - accuracy: 0.0000e+00\n",
      "Epoch 99/100\n",
      "192/192 [==============================] - 0s 2ms/step - loss: 8.7853 - accuracy: 1.6297e-04\n",
      "Epoch 100/100\n",
      "192/192 [==============================] - 0s 2ms/step - loss: 9.6329 - accuracy: 1.6297e-04\n"
     ]
    }
   ],
   "source": [
    "#configure the model of training \n",
    "model.compile(loss = tf.losses.MeanSquaredError(), optimizer = tf.optimizers.Adam(), metrics=['accuracy'])\n",
    "history = model.fit(X_train, y_train, epochs=100, batch_size=32)\n"
   ]
  },
  {
   "cell_type": "code",
   "execution_count": 53,
   "id": "7a0e6a19",
   "metadata": {},
   "outputs": [
    {
     "name": "stdout",
     "output_type": "stream",
     "text": [
      "48/48 [==============================] - 0s 2ms/step - loss: 9.3707 - accuracy: 0.0000e+00\n"
     ]
    }
   ],
   "source": [
    "accuracy = model.evaluate(X_test, y_test)"
   ]
  },
  {
   "cell_type": "code",
   "execution_count": 55,
   "id": "caebdf1e",
   "metadata": {},
   "outputs": [],
   "source": [
    "#print(\"Accuracy: {:.2f}%\".format(accuracy * 100))"
   ]
  },
  {
   "cell_type": "code",
   "execution_count": 65,
   "id": "d3008138",
   "metadata": {},
   "outputs": [],
   "source": [
    "import matplotlib.pyplot as scatter "
   ]
  },
  {
   "cell_type": "code",
   "execution_count": 57,
   "id": "c68e34cf",
   "metadata": {},
   "outputs": [
    {
     "name": "stdout",
     "output_type": "stream",
     "text": [
      "48/48 [==============================] - 0s 2ms/step\n"
     ]
    }
   ],
   "source": [
    "prediction = model.predict(X_test)"
   ]
  },
  {
   "cell_type": "code",
   "execution_count": 61,
   "id": "6d2c3858",
   "metadata": {},
   "outputs": [
    {
     "data": {
      "image/png": "[encoded data removed]",
      "text/plain": [
       "<Figure size 640x480 with 1 Axes>"
      ]
     },
     "metadata": {},
     "output_type": "display_data"
    },
    {
     "data": {
      "image/png": "[encoded data removed]",
      "text/plain": [
       "<Figure size 640x480 with 1 Axes>"
      ]
     },
     "metadata": {},
     "output_type": "display_data"
    }
   ],
   "source": [
    "# summarize history for accuracy\n",
    "plt.plot(history.history['accuracy'])\n",
    "plt.title('model accuracy')\n",
    "plt.ylabel('accuracy')\n",
    "plt.xlabel('epoch')\n",
    "plt.legend(['train', 'test'], loc='upper left')\n",
    "plt.show()\n",
    "\n",
    "\n",
    "# summarize history for loss\n",
    "plt.plot(history.history['loss'])\n",
    "plt.title('model loss')\n",
    "plt.ylabel('loss')\n",
    "plt.xlabel('epoch')\n",
    "plt.legend(['train', 'test'], loc='upper left')\n",
    "plt.show()\n",
    "#plt.scatter(y_test, prediction)\n",
    "#plt.xlabel('Actual Temperature')\n",
    "#plt.ylabel('Predected Temperatures')\n",
    "#plt.title('Actual vs. Predicted Tempeatures')\n",
    "#plt.show()"
   ]
  },
  {
   "cell_type": "code",
   "execution_count": null,
   "id": "110b57aa",
   "metadata": {},
   "outputs": [],
   "source": []
  },
  {
   "cell_type": "code",
   "execution_count": null,
   "id": "936796de",
   "metadata": {},
   "outputs": [],
   "source": []
  },
  {
   "cell_type": "code",
   "execution_count": null,
   "id": "3a1e3e39",
   "metadata": {},
   "outputs": [],
   "source": []
  },
  {
   "cell_type": "code",
   "execution_count": null,
   "id": "ef44d6b3",
   "metadata": {},
   "outputs": [],
   "source": []
  },
  {
   "cell_type": "code",
   "execution_count": null,
   "id": "7adeb84f",
   "metadata": {},
   "outputs": [],
   "source": []
  }
 ],
 "metadata": {
  "kernelspec": {
   "display_name": "Python 3 (ipykernel)",
   "language": "python",
   "name": "python3"
  },
  "language_info": {
   "codemirror_mode": {
    "name": "ipython",
    "version": 3
   },
   "file_extension": ".py",
   "mimetype": "text/x-python",
   "name": "python",
   "nbconvert_exporter": "python",
   "pygments_lexer": "ipython3",
   "version": "3.10.9"
  }
 },
 "nbformat": 4,
 "nbformat_minor": 5
}
